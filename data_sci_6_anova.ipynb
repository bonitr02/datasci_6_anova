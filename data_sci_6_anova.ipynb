{
  "nbformat": 4,
  "nbformat_minor": 0,
  "metadata": {
    "colab": {
      "provenance": [],
      "authorship_tag": "ABX9TyMDBOLMj+2zTjnaFuVJUtJP",
      "include_colab_link": true
    },
    "kernelspec": {
      "name": "python3",
      "display_name": "Python 3"
    },
    "language_info": {
      "name": "python"
    }
  },
  "cells": [
    {
      "cell_type": "markdown",
      "metadata": {
        "id": "view-in-github",
        "colab_type": "text"
      },
      "source": [
        "<a href=\"https://colab.research.google.com/github/bonitr02/datasci_6_anova/blob/main/data_sci_6_anova.ipynb\" target=\"_parent\"><img src=\"https://colab.research.google.com/assets/colab-badge.svg\" alt=\"Open In Colab\"/></a>"
      ]
    },
    {
      "cell_type": "markdown",
      "source": [
        "# HHA 507 Week 6 - ANOVA Analysis Part II"
      ],
      "metadata": {
        "id": "vS9TB3nn7tFa"
      }
    },
    {
      "cell_type": "markdown",
      "source": [
        "## Import Packages"
      ],
      "metadata": {
        "id": "UZIm03bdBqRt"
      }
    },
    {
      "cell_type": "code",
      "source": [
        "!pip install ucimlrepo\n",
        "import pandas as pd\n",
        "from ucimlrepo import fetch_ucirepo\n",
        "import scipy.stats as stats\n",
        "import matplotlib.pyplot as plt\n",
        "\n",
        "#anova\n",
        "import statsmodels.api as sm\n",
        "from statsmodels.formula.api import ols"
      ],
      "metadata": {
        "colab": {
          "base_uri": "https://localhost:8080/"
        },
        "id": "DG6ocldYH7mE",
        "outputId": "88898253-2b9a-4158-bac6-721968fa866e"
      },
      "execution_count": 2,
      "outputs": [
        {
          "output_type": "stream",
          "name": "stdout",
          "text": [
            "Requirement already satisfied: ucimlrepo in /usr/local/lib/python3.10/dist-packages (0.0.3)\n"
          ]
        }
      ]
    },
    {
      "cell_type": "markdown",
      "source": [
        "## Load Dataset"
      ],
      "metadata": {
        "id": "UwZvyGiWBsjn"
      }
    },
    {
      "cell_type": "code",
      "source": [
        "# fetch dataset\n",
        "diabetes_130_us_hospitals_for_years_1999_2008 = fetch_ucirepo(id=296)"
      ],
      "metadata": {
        "colab": {
          "base_uri": "https://localhost:8080/"
        },
        "id": "KHAPdt25AzWC",
        "outputId": "e9acf2c8-2516-4a38-b6b6-65839235e9a0"
      },
      "execution_count": 3,
      "outputs": [
        {
          "output_type": "stream",
          "name": "stderr",
          "text": [
            "/usr/local/lib/python3.10/dist-packages/ucimlrepo/fetch.py:97: DtypeWarning: Columns (10) have mixed types. Specify dtype option on import or set low_memory=False.\n",
            "  df = pd.read_csv(data_url)\n"
          ]
        }
      ]
    },
    {
      "cell_type": "code",
      "source": [
        "# data (as pandas dataframes)\n",
        "X = diabetes_130_us_hospitals_for_years_1999_2008.data.features\n",
        "y = diabetes_130_us_hospitals_for_years_1999_2008.data.targets"
      ],
      "metadata": {
        "id": "HC2M6PCTAzTI"
      },
      "execution_count": null,
      "outputs": []
    },
    {
      "cell_type": "code",
      "source": [
        "# metadata\n",
        "print(diabetes_130_us_hospitals_for_years_1999_2008.metadata)"
      ],
      "metadata": {
        "id": "zR8IdVnNAzP_"
      },
      "execution_count": null,
      "outputs": []
    },
    {
      "cell_type": "code",
      "source": [
        "# variable information\n",
        "print(diabetes_130_us_hospitals_for_years_1999_2008.variables)"
      ],
      "metadata": {
        "id": "VYNxkgjjAzIe"
      },
      "execution_count": null,
      "outputs": []
    },
    {
      "cell_type": "markdown",
      "source": [
        "## Assumption Checks"
      ],
      "metadata": {
        "id": "X7zEJbs7B_20"
      }
    },
    {
      "cell_type": "markdown",
      "source": [
        "### Normality"
      ],
      "metadata": {
        "id": "cgZpa9NQCEu_"
      }
    },
    {
      "cell_type": "markdown",
      "source": [
        "#### Interpretation"
      ],
      "metadata": {
        "id": "gfB5V8tpCN5v"
      }
    },
    {
      "cell_type": "markdown",
      "source": [
        "### Homoscedasticity (Equal Variances)"
      ],
      "metadata": {
        "id": "XL5BeWD8CGvq"
      }
    },
    {
      "cell_type": "markdown",
      "source": [
        "#### Interpretation"
      ],
      "metadata": {
        "id": "QEeSY40OCRCY"
      }
    },
    {
      "cell_type": "markdown",
      "source": [
        "## One-way ANOVA test"
      ],
      "metadata": {
        "id": "ogIL-IBdCSoc"
      }
    },
    {
      "cell_type": "markdown",
      "source": [
        "#### Interpretation"
      ],
      "metadata": {
        "id": "qba7eC6yCXh6"
      }
    },
    {
      "cell_type": "markdown",
      "source": [
        "## Post-hoc Tukey Test"
      ],
      "metadata": {
        "id": "4vneoJqaCZUS"
      }
    },
    {
      "cell_type": "markdown",
      "source": [
        "#### Interpretation"
      ],
      "metadata": {
        "id": "CybV7vjUCfaV"
      }
    }
  ]
}