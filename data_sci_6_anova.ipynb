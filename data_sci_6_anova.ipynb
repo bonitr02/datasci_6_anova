{
  "nbformat": 4,
  "nbformat_minor": 0,
  "metadata": {
    "colab": {
      "provenance": [],
      "collapsed_sections": [
        "UwZvyGiWBsjn",
        "cgZpa9NQCEu_"
      ],
      "authorship_tag": "ABX9TyMOe8H/Y9+NewA67rQ5wl4L",
      "include_colab_link": true
    },
    "kernelspec": {
      "name": "python3",
      "display_name": "Python 3"
    },
    "language_info": {
      "name": "python"
    }
  },
  "cells": [
    {
      "cell_type": "markdown",
      "metadata": {
        "id": "view-in-github",
        "colab_type": "text"
      },
      "source": [
        "<a href=\"https://colab.research.google.com/github/bonitr02/datasci_6_anova/blob/main/data_sci_6_anova.ipynb\" target=\"_parent\"><img src=\"https://colab.research.google.com/assets/colab-badge.svg\" alt=\"Open In Colab\"/></a>"
      ]
    },
    {
      "cell_type": "markdown",
      "source": [
        "# HHA 507 Week 6 - ANOVA Analysis Part II"
      ],
      "metadata": {
        "id": "vS9TB3nn7tFa"
      }
    },
    {
      "cell_type": "markdown",
      "source": [
        "## Import Packages"
      ],
      "metadata": {
        "id": "UZIm03bdBqRt"
      }
    },
    {
      "cell_type": "code",
      "source": [
        "!pip install ucimlrepo\n",
        "import pandas as pd\n",
        "from ucimlrepo import fetch_ucirepo\n",
        "from scipy.stats import shapiro\n",
        "import scipy.stats as stats\n",
        "from statsmodels.stats.anova import anova_lm\n",
        "import statsmodels.api as sm\n",
        "from statsmodels.formula.api import ols\n",
        "from statsmodels.stats.multicomp import pairwise_tukeyhsd"
      ],
      "metadata": {
        "colab": {
          "base_uri": "https://localhost:8080/"
        },
        "id": "DG6ocldYH7mE",
        "outputId": "8e785bca-fc3d-4e19-fff0-73882c37f821"
      },
      "execution_count": 66,
      "outputs": [
        {
          "output_type": "stream",
          "name": "stdout",
          "text": [
            "Requirement already satisfied: ucimlrepo in /usr/local/lib/python3.10/dist-packages (0.0.3)\n"
          ]
        }
      ]
    },
    {
      "cell_type": "markdown",
      "source": [
        "## Load Dataset"
      ],
      "metadata": {
        "id": "UwZvyGiWBsjn"
      }
    },
    {
      "cell_type": "code",
      "source": [
        "# fetch dataset\n",
        "diabetes = fetch_ucirepo(id=296)"
      ],
      "metadata": {
        "colab": {
          "base_uri": "https://localhost:8080/"
        },
        "id": "KHAPdt25AzWC",
        "outputId": "0a49f0c3-9a5d-4cac-99ee-0a5a962f243b"
      },
      "execution_count": 20,
      "outputs": [
        {
          "output_type": "stream",
          "name": "stderr",
          "text": [
            "/usr/local/lib/python3.10/dist-packages/ucimlrepo/fetch.py:97: DtypeWarning: Columns (10) have mixed types. Specify dtype option on import or set low_memory=False.\n",
            "  df = pd.read_csv(data_url)\n"
          ]
        }
      ]
    },
    {
      "cell_type": "code",
      "source": [
        "# data (as pandas dataframes)\n",
        "X = diabetes.data.features\n",
        "y = diabetes.data.targets"
      ],
      "metadata": {
        "id": "HC2M6PCTAzTI"
      },
      "execution_count": 21,
      "outputs": []
    },
    {
      "cell_type": "code",
      "source": [
        "df = pd.DataFrame(X)\n",
        "len(df)\n",
        "#101766 values"
      ],
      "metadata": {
        "id": "NVSXV_UTLPpI",
        "colab": {
          "base_uri": "https://localhost:8080/"
        },
        "outputId": "bcdf59de-a499-46cd-b4fe-b586147c7d36"
      },
      "execution_count": 35,
      "outputs": [
        {
          "output_type": "execute_result",
          "data": {
            "text/plain": [
              "101766"
            ]
          },
          "metadata": {},
          "execution_count": 35
        }
      ]
    },
    {
      "cell_type": "code",
      "source": [
        "df.columns"
      ],
      "metadata": {
        "colab": {
          "base_uri": "https://localhost:8080/"
        },
        "id": "67jX_8YtEfin",
        "outputId": "ca0f0c14-21e6-4348-f30e-5af17879b7b0"
      },
      "execution_count": 23,
      "outputs": [
        {
          "output_type": "execute_result",
          "data": {
            "text/plain": [
              "Index(['race', 'gender', 'age', 'weight', 'admission_type_id',\n",
              "       'discharge_disposition_id', 'admission_source_id', 'time_in_hospital',\n",
              "       'payer_code', 'medical_specialty', 'num_lab_procedures',\n",
              "       'num_procedures', 'num_medications', 'number_outpatient',\n",
              "       'number_emergency', 'number_inpatient', 'diag_1', 'diag_2', 'diag_3',\n",
              "       'number_diagnoses', 'max_glu_serum', 'A1Cresult', 'metformin',\n",
              "       'repaglinide', 'nateglinide', 'chlorpropamide', 'glimepiride',\n",
              "       'acetohexamide', 'glipizide', 'glyburide', 'tolbutamide',\n",
              "       'pioglitazone', 'rosiglitazone', 'acarbose', 'miglitol', 'troglitazone',\n",
              "       'tolazamide', 'examide', 'citoglipton', 'insulin',\n",
              "       'glyburide-metformin', 'glipizide-metformin',\n",
              "       'glimepiride-pioglitazone', 'metformin-rosiglitazone',\n",
              "       'metformin-pioglitazone', 'change', 'diabetesMed'],\n",
              "      dtype='object')"
            ]
          },
          "metadata": {},
          "execution_count": 23
        }
      ]
    },
    {
      "cell_type": "code",
      "source": [
        "df.dtypes"
      ],
      "metadata": {
        "colab": {
          "base_uri": "https://localhost:8080/"
        },
        "id": "2YHeLAG8FM2R",
        "outputId": "f75ef01d-f0f6-4956-ce0e-a933d305e552"
      },
      "execution_count": 24,
      "outputs": [
        {
          "output_type": "execute_result",
          "data": {
            "text/plain": [
              "race                        object\n",
              "gender                      object\n",
              "age                         object\n",
              "weight                      object\n",
              "admission_type_id            int64\n",
              "discharge_disposition_id     int64\n",
              "admission_source_id          int64\n",
              "time_in_hospital             int64\n",
              "payer_code                  object\n",
              "medical_specialty           object\n",
              "num_lab_procedures           int64\n",
              "num_procedures               int64\n",
              "num_medications              int64\n",
              "number_outpatient            int64\n",
              "number_emergency             int64\n",
              "number_inpatient             int64\n",
              "diag_1                      object\n",
              "diag_2                      object\n",
              "diag_3                      object\n",
              "number_diagnoses             int64\n",
              "max_glu_serum               object\n",
              "A1Cresult                   object\n",
              "metformin                   object\n",
              "repaglinide                 object\n",
              "nateglinide                 object\n",
              "chlorpropamide              object\n",
              "glimepiride                 object\n",
              "acetohexamide               object\n",
              "glipizide                   object\n",
              "glyburide                   object\n",
              "tolbutamide                 object\n",
              "pioglitazone                object\n",
              "rosiglitazone               object\n",
              "acarbose                    object\n",
              "miglitol                    object\n",
              "troglitazone                object\n",
              "tolazamide                  object\n",
              "examide                     object\n",
              "citoglipton                 object\n",
              "insulin                     object\n",
              "glyburide-metformin         object\n",
              "glipizide-metformin         object\n",
              "glimepiride-pioglitazone    object\n",
              "metformin-rosiglitazone     object\n",
              "metformin-pioglitazone      object\n",
              "change                      object\n",
              "diabetesMed                 object\n",
              "dtype: object"
            ]
          },
          "metadata": {},
          "execution_count": 24
        }
      ]
    },
    {
      "cell_type": "code",
      "source": [
        "# Will use num_medications as dependent variable and race as indepent variable with multiple levels\n",
        "# Both variables are the appropriate data types"
      ],
      "metadata": {
        "id": "FxzzrlqwFUCo"
      },
      "execution_count": null,
      "outputs": []
    },
    {
      "cell_type": "markdown",
      "source": [
        "### Look for missingness"
      ],
      "metadata": {
        "id": "0C0Np6HUF-al"
      }
    },
    {
      "cell_type": "code",
      "source": [
        "newdf = df[['num_medications', 'race']]\n",
        "print(newdf)\n",
        "len(newdf)\n",
        "#101766 rows"
      ],
      "metadata": {
        "colab": {
          "base_uri": "https://localhost:8080/"
        },
        "id": "a55-0A-SIfmY",
        "outputId": "765c57fa-bf7e-423f-84ae-0bcafd20ddd3"
      },
      "execution_count": 36,
      "outputs": [
        {
          "output_type": "stream",
          "name": "stdout",
          "text": [
            "        num_medications             race\n",
            "0                     1        Caucasian\n",
            "1                    18        Caucasian\n",
            "2                    13  AfricanAmerican\n",
            "3                    16        Caucasian\n",
            "4                     8        Caucasian\n",
            "...                 ...              ...\n",
            "101761               16  AfricanAmerican\n",
            "101762               18  AfricanAmerican\n",
            "101763                9        Caucasian\n",
            "101764               21        Caucasian\n",
            "101765                3        Caucasian\n",
            "\n",
            "[101766 rows x 2 columns]\n"
          ]
        },
        {
          "output_type": "execute_result",
          "data": {
            "text/plain": [
              "101766"
            ]
          },
          "metadata": {},
          "execution_count": 36
        }
      ]
    },
    {
      "cell_type": "code",
      "source": [
        "## keep only complete rows\n",
        "newdf = newdf.dropna()\n",
        "len(newdf)\n",
        "#99493 remaining rows"
      ],
      "metadata": {
        "colab": {
          "base_uri": "https://localhost:8080/"
        },
        "id": "w7U3-dI4KvaK",
        "outputId": "adcb2004-7bb9-42a8-f91c-e1d1a3849455"
      },
      "execution_count": 39,
      "outputs": [
        {
          "output_type": "execute_result",
          "data": {
            "text/plain": [
              "<bound method NDFrame.describe of         num_medications             race\n",
              "0                     1        Caucasian\n",
              "1                    18        Caucasian\n",
              "2                    13  AfricanAmerican\n",
              "3                    16        Caucasian\n",
              "4                     8        Caucasian\n",
              "...                 ...              ...\n",
              "101761               16  AfricanAmerican\n",
              "101762               18  AfricanAmerican\n",
              "101763                9        Caucasian\n",
              "101764               21        Caucasian\n",
              "101765                3        Caucasian\n",
              "\n",
              "[99493 rows x 2 columns]>"
            ]
          },
          "metadata": {},
          "execution_count": 39
        }
      ]
    },
    {
      "cell_type": "markdown",
      "source": [
        "## Assumption Checks"
      ],
      "metadata": {
        "id": "X7zEJbs7B_20"
      }
    },
    {
      "cell_type": "markdown",
      "source": [
        "### Normality"
      ],
      "metadata": {
        "id": "cgZpa9NQCEu_"
      }
    },
    {
      "cell_type": "code",
      "source": [
        "stat, p = shapiro(newdf['num_medications'])\n",
        "if p > 0.05:\n",
        "    print(\"Number of medication data follows a normal distribution. P-value is: \",p)\n",
        "else:\n",
        "    print(\"Number of medication data does not follow a normal distribution. P-value is: \",p)"
      ],
      "metadata": {
        "id": "LT-VJRlDKElv"
      },
      "execution_count": null,
      "outputs": []
    },
    {
      "cell_type": "code",
      "source": [
        "# Histogram\n",
        "plt.hist(newdf['num_medications'], bins=20, edgecolor='k', alpha=0.7)\n",
        "plt.title('Histogram of Numbers of Medications')\n",
        "plt.xlabel('number of medications')\n",
        "plt.ylabel('number of patients')\n",
        "plt.show()"
      ],
      "metadata": {
        "id": "whg5SdLjNol5"
      },
      "execution_count": null,
      "outputs": []
    },
    {
      "cell_type": "code",
      "source": [
        "groups = newdf.groupby(['race'])\n",
        "\n",
        "for (race_status), group_df in groups:\n",
        "    _, p_value = stats.shapiro(group_df['num_medications'])\n",
        "\n",
        "    print(f\"Group ({race_status}):\")\n",
        "    print(f\"P-value from Shapiro-Wilk Test: {p_value}\\n\")\n",
        "\n",
        "# greater than 0.05 is normal distribution"
      ],
      "metadata": {
        "id": "ZmLjG9pPNywe"
      },
      "execution_count": null,
      "outputs": []
    },
    {
      "cell_type": "markdown",
      "source": [
        "#### Interpretation\n",
        "\n",
        "Num_Medications: p-value is 0.0, indicating a statistically significant difference in the distribution of the data. Visualizing the histogram confirms that the data is skewed to the left.\n",
        "\n",
        "Race: p-value is less than 0.05 for all racial categories, indicating a statistically signficant difference in the distribution of data across racial categories"
      ],
      "metadata": {
        "id": "gfB5V8tpCN5v"
      }
    },
    {
      "cell_type": "markdown",
      "source": [
        "### Homoscedasticity (Equal Variances)"
      ],
      "metadata": {
        "id": "XL5BeWD8CGvq"
      }
    },
    {
      "cell_type": "code",
      "source": [
        "newdf['race'].value_counts()"
      ],
      "metadata": {
        "colab": {
          "base_uri": "https://localhost:8080/"
        },
        "id": "SNDCwffxQa-b",
        "outputId": "2fc743cb-d3fe-41e1-b6dc-df4f276e0867"
      },
      "execution_count": 57,
      "outputs": [
        {
          "output_type": "execute_result",
          "data": {
            "text/plain": [
              "Caucasian          76099\n",
              "AfricanAmerican    19210\n",
              "Hispanic            2037\n",
              "Other               1506\n",
              "Asian                641\n",
              "Name: race, dtype: int64"
            ]
          },
          "metadata": {},
          "execution_count": 57
        }
      ]
    },
    {
      "cell_type": "code",
      "source": [
        "# check homogeneous variance with Levene's test\n",
        "print(stats.levene(newdf[newdf[\"race\"] == \"Caucasian\"][\"num_medications\"],\n",
        "                     newdf[newdf[\"race\"] == \"AfricanAmerican\"][\"num_medications\"],\n",
        "                   newdf[newdf[\"race\"] == \"Hispanic\"][\"num_medications\"],\n",
        "                   newdf[newdf[\"race\"] == \"Other\"][\"num_medications\"],\n",
        "                   newdf[newdf[\"race\"] == \"Asian\"][\"num_medications\"]))"
      ],
      "metadata": {
        "colab": {
          "base_uri": "https://localhost:8080/"
        },
        "id": "woMZOSunPItH",
        "outputId": "d79fbbfc-949c-42e0-8eb4-b1f6b47afa0f"
      },
      "execution_count": 58,
      "outputs": [
        {
          "output_type": "stream",
          "name": "stdout",
          "text": [
            "LeveneResult(statistic=9.964541877327243, pvalue=4.6475787972404207e-08)\n"
          ]
        }
      ]
    },
    {
      "cell_type": "markdown",
      "source": [
        "#### Interpretation"
      ],
      "metadata": {
        "id": "QEeSY40OCRCY"
      }
    },
    {
      "cell_type": "markdown",
      "source": [
        "Interpretation of the results:\n",
        "\n",
        "The p-value is less than 0.05, indicating that there is strong evidence to suggest that the homogeneity of variance is violated.\n"
      ],
      "metadata": {
        "id": "wCWm_hVUPb2T"
      }
    },
    {
      "cell_type": "markdown",
      "source": [
        "## One-way ANOVA test\n",
        "\n",
        "Hypothesis: Number of medications differ by patient race.\n",
        "\n",
        "Null hypothesis: Number of medications does not differ by patient race."
      ],
      "metadata": {
        "id": "ogIL-IBdCSoc"
      }
    },
    {
      "cell_type": "code",
      "source": [
        "model = ols('num_medications ~ C(race)', data=newdf).fit()\n",
        "anova_table = anova_lm(model, typ=2)\n",
        "print(anova_table)\n"
      ],
      "metadata": {
        "colab": {
          "base_uri": "https://localhost:8080/"
        },
        "id": "kUu9wGRKTj8Y",
        "outputId": "43f2e5a6-87cb-4b5a-beb4-40088c304f97"
      },
      "execution_count": 65,
      "outputs": [
        {
          "output_type": "stream",
          "name": "stdout",
          "text": [
            "                sum_sq       df           F        PR(>F)\n",
            "C(race)   2.739461e+04      4.0  104.307503  8.104325e-89\n",
            "Residual  6.532212e+06  99488.0         NaN           NaN\n"
          ]
        }
      ]
    },
    {
      "cell_type": "markdown",
      "source": [
        "#### Interpretation\n",
        "\n",
        "F: The computed F-statistic value is 104.307503, indicating that the group means for race are different from each other\n",
        "\n",
        "PR(>F): The p-value associated with the F-statistic is 8.104e-89\n",
        "\n",
        "Since the p-value (8.104e-89) is less than the common alpha level of 0.05, we reject the null hypothesis."
      ],
      "metadata": {
        "id": "qba7eC6yCXh6"
      }
    },
    {
      "cell_type": "markdown",
      "source": [
        "## Post-hoc Tukey Test"
      ],
      "metadata": {
        "id": "4vneoJqaCZUS"
      }
    },
    {
      "cell_type": "code",
      "source": [
        "posthoc = pairwise_tukeyhsd(newdf['num_medications'], newdf['race'], alpha=0.05)\n",
        "\n",
        "print(posthoc)"
      ],
      "metadata": {
        "colab": {
          "base_uri": "https://localhost:8080/"
        },
        "id": "E0s9LWAHWUXL",
        "outputId": "fcf21e92-7d2d-4d45-db88-5b213840a4a8"
      },
      "execution_count": 68,
      "outputs": [
        {
          "output_type": "stream",
          "name": "stdout",
          "text": [
            "      Multiple Comparison of Means - Tukey HSD, FWER=0.05       \n",
            "================================================================\n",
            "     group1       group2  meandiff p-adj   lower   upper  reject\n",
            "----------------------------------------------------------------\n",
            "AfricanAmerican     Asian  -2.0772    0.0 -2.9647 -1.1897   True\n",
            "AfricanAmerican Caucasian   0.9168    0.0  0.7383  1.0953   True\n",
            "AfricanAmerican  Hispanic  -1.3385    0.0 -1.8535 -0.8234   True\n",
            "AfricanAmerican     Other   -0.183 0.9168 -0.7745  0.4085  False\n",
            "          Asian Caucasian    2.994    0.0  2.1173  3.8707   True\n",
            "          Asian  Hispanic   0.7387 0.2596 -0.2623  1.7397  False\n",
            "          Asian     Other   1.8942    0.0  0.8518  2.9366   True\n",
            "      Caucasian  Hispanic  -2.2553    0.0 -2.7515  -1.759   True\n",
            "      Caucasian     Other  -1.0998    0.0  -1.675 -0.5246   True\n",
            "       Hispanic     Other   1.1555 0.0003  0.4043  1.9067   True\n",
            "----------------------------------------------------------------\n"
          ]
        }
      ]
    },
    {
      "cell_type": "markdown",
      "source": [
        "#### Interpretation\n",
        "\n",
        "-African American vs Asian: p-value = 0.0, indicating a significant difference between the two groups\n",
        "\n",
        "-African American vs Caucasian:p-value = 0.0, indicating a significant difference between the two groups\n",
        "\n",
        "-African American vs Hispanic:p-value = 0.0, indicating a significant difference between the two groups\n",
        "\n",
        "-African American vs Other: p-value is 0.9168, indicating that there is not a signficant difference between the two groups\n",
        "\n",
        "-Asian vs Caucasian:p-value = 0.0, indicating a significant difference between the two groups\n",
        "\n",
        "-Asian vs Hispanic: p-value = 0.2596, indicating that there is not a significant difference between the two groups\n",
        "\n",
        "-Asian vs Other:p-value = 0.0, indicating a significant difference between the two groups\n",
        "\n",
        "-Caucasian vs Hispanic:p-value = 0.0, indicating a significant difference between the two groups\n",
        "\n",
        "-Caucasian vs Other: p-value = 0.0, indicating a significant difference between the two groups\n",
        "\n",
        "-Hispanic vs Other: p-value = 0.0003, indicating a significant difference between the two groups\n",
        "\n",
        "\n"
      ],
      "metadata": {
        "id": "CybV7vjUCfaV"
      }
    },
    {
      "cell_type": "markdown",
      "source": [
        "## Markdown Insights\n",
        "\n",
        "- Number of medications and race were chosen for this test to observe if there is a statistical difference between different demographic groups and the number of medications in a patient regimen. This test requires a dependent variable (number of medications) and a categorical variable (race) that can be split into multiple groups.\n",
        "\n",
        "\n",
        "- The normality and equal variance tests both failed, indicating that the ANOVA test results may not be accurate. In this situation, a non-parametric test such as the Friedman Test may be more appropriate.\n",
        "\n",
        "- According to the results of the ANOVA test, there are differences between the number of medications and patient race, however a different test may give more accurate results."
      ],
      "metadata": {
        "id": "DCRKlXn1TUx4"
      }
    }
  ]
}